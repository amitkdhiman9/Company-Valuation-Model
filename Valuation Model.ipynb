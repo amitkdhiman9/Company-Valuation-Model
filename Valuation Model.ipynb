{
  "metadata": {
    "kernelspec": {
      "display_name": "Python (Pyodide)",
      "language": "python",
      "name": "python"
    },
    "language_info": {
      "codemirror_mode": {
        "name": "python",
        "version": 3
      },
      "file_extension": ".py",
      "mimetype": "text/x-python",
      "name": "python",
      "nbconvert_exporter": "python",
      "pygments_lexer": "ipython3",
      "version": "3.8"
    }
  },
  "nbformat_minor": 4,
  "nbformat": 4,
  "cells": [
    {
      "cell_type": "markdown",
      "source": "# Valuation of a Company\n\nIf you have watched Shark Tank, the judges try to offer deals on a certain valuation based on different parameters. Revenue, Gross Profit, Net Profit, Quarter on Quarter are some of these parameters. This got me wondering how do these judges calculate what valuation should be given using these parameters. Which parameter mattered the most? Which parameter would hold more weightage in a particular sector? How do you know that a certain valuation was a fair valuation?\n\nSo I decided a to build a Multiple Linear Regression Model to predict the valuation of companies belonging to a particular sector (to be precise of Sugar Sector). Then this Linear Regression Model can help me tell which companies are overbought and which companies are underbought.\n\nBecause I have good knowledge of the Stock Market, I compiled all the data in an excel sheet first, used the required formulas to get the necessary ratios and then converted it into a .csv file so that I can do the necessary analysis, pre-processing and build my Linear Regression Model.",
      "metadata": {}
    },
    {
      "cell_type": "code",
      "source": "import numpy as np\nimport pandas as pd",
      "metadata": {
        "trusted": true
      },
      "outputs": [],
      "execution_count": 1
    },
    {
      "cell_type": "code",
      "source": "import piplite\nawait piplite.install('seaborn')\nimport matplotlib.pyplot as plt\nimport seaborn as sns",
      "metadata": {
        "trusted": true
      },
      "outputs": [],
      "execution_count": null
    },
    {
      "cell_type": "code",
      "source": "sugar = pd.read_csv('Sugar_Stocks.csv')\nsugar.head()",
      "metadata": {
        "trusted": true
      },
      "outputs": [],
      "execution_count": null
    },
    {
      "cell_type": "markdown",
      "source": "### Cleaning\n\nI can see that there are some missing values in this Dataset. Let us clean them first.\nThen I can see that there are some columns that do not have the appropriate data type due to formatting. So I will format them and assign them the appropriate data types.",
      "metadata": {}
    },
    {
      "cell_type": "code",
      "source": "sugar = sugar.dropna()",
      "metadata": {
        "trusted": true
      },
      "outputs": [],
      "execution_count": null
    },
    {
      "cell_type": "code",
      "source": "sugar['NoS'] = sugar['NoS'].str.replace(',', '').astype(int)",
      "metadata": {
        "trusted": true
      },
      "outputs": [],
      "execution_count": null
    },
    {
      "cell_type": "code",
      "source": "sugar['Revenue'] = sugar['Revenue'].str.replace(',', '').astype(float)",
      "metadata": {
        "trusted": true
      },
      "outputs": [],
      "execution_count": null
    },
    {
      "cell_type": "code",
      "source": "sugar['BV'] = sugar['BV'].str.replace(',', '').astype(float)",
      "metadata": {
        "trusted": true
      },
      "outputs": [],
      "execution_count": null
    },
    {
      "cell_type": "code",
      "source": "sugar['EBIT CAGR 4 yrs'] = sugar['EBIT CAGR 4 yrs'].str.replace(',', '').astype(float)",
      "metadata": {
        "trusted": true
      },
      "outputs": [],
      "execution_count": null
    },
    {
      "cell_type": "code",
      "source": "sugar['EBIT CAGR 2 yrs'] = sugar['EBIT CAGR 2 yrs'].str.replace(',', '').astype(float)",
      "metadata": {
        "trusted": true
      },
      "outputs": [],
      "execution_count": null
    },
    {
      "cell_type": "markdown",
      "source": "Let's check the data types before moving forward.",
      "metadata": {}
    },
    {
      "cell_type": "code",
      "source": "sugar.dtypes",
      "metadata": {
        "trusted": true
      },
      "outputs": [],
      "execution_count": null
    },
    {
      "cell_type": "markdown",
      "source": "Because we want to make a valuation model, it would be fair to introduce a new column called for Market Capital. For those of you who don't know, Market Capital is just another name for valuation. The formula for Market Cap is Number of Shares of a company multiplied by its Last Trading Price.",
      "metadata": {}
    },
    {
      "cell_type": "code",
      "source": "sugar['mcap'] = sugar['NoS'] * sugar['LTP']",
      "metadata": {
        "trusted": true
      },
      "outputs": [],
      "execution_count": null
    },
    {
      "cell_type": "code",
      "source": "sugar.head()",
      "metadata": {
        "trusted": true
      },
      "outputs": [],
      "execution_count": null
    },
    {
      "cell_type": "markdown",
      "source": "Because Linear Regression Models are sensitive to outliers, we will check for any outliers in particular two important parameter. We will then clean our dataset by removing these outliers.\n\nLet us first explore outliers in ROCE column (Return On Capital Equity).",
      "metadata": {}
    },
    {
      "cell_type": "code",
      "source": "sns.boxplot(x=sugar['ROCE'])\nplt.show()",
      "metadata": {
        "trusted": true
      },
      "outputs": [],
      "execution_count": null
    },
    {
      "cell_type": "markdown",
      "source": "Let us use the inter-quartile range method to deal with the outliers in this column.",
      "metadata": {}
    },
    {
      "cell_type": "code",
      "source": "quantile_1 = sugar['ROCE'].quantile(0.25)\nquantile_3 = sugar['ROCE'].quantile(0.75)\niqr = quantile_3 - quantile_1\nupper_limit = quantile_3 + 1.5 * iqr\nlower_limit = quantile_1 - 1.5 * iqr\nsugar = sugar[(sugar['ROCE'] >= lower_limit) & (sugar['ROCE'] <= upper_limit)]\nsugar = sugar[sugar['ROCE'] > 0]",
      "metadata": {
        "trusted": true
      },
      "outputs": [],
      "execution_count": null
    },
    {
      "cell_type": "markdown",
      "source": "Let us check if our outliers were removed",
      "metadata": {}
    },
    {
      "cell_type": "code",
      "source": "sns.boxplot(x=sugar['ROCE'])\nplt.show()",
      "metadata": {
        "trusted": true
      },
      "outputs": [],
      "execution_count": null
    },
    {
      "cell_type": "markdown",
      "source": "Let us now check outliers in the 'Debt to Equity Ratio' column.",
      "metadata": {}
    },
    {
      "cell_type": "code",
      "source": "sns.boxplot(x=sugar['Debt to Equity Ratio'])\nplt.show()",
      "metadata": {
        "trusted": true
      },
      "outputs": [],
      "execution_count": null
    },
    {
      "cell_type": "code",
      "source": "quantile_1 = sugar['Debt to Equity Ratio'].quantile(0.25)\nquantile_3 = sugar['Debt to Equity Ratio'].quantile(0.75)\niqr = quantile_3 - quantile_1\nupper_limit = quantile_3 + 1.5 * iqr\nlower_limit = quantile_1 - 1.5 * iqr\nsugar = sugar[(sugar['Debt to Equity Ratio'] >= lower_limit) & (sugar['Debt to Equity Ratio'] <= upper_limit)]",
      "metadata": {
        "trusted": true
      },
      "outputs": [],
      "execution_count": null
    },
    {
      "cell_type": "markdown",
      "source": "Again, let us verify if any outliers are left or not.",
      "metadata": {}
    },
    {
      "cell_type": "code",
      "source": "sns.boxplot(x=sugar['Debt to Equity Ratio'])\nplt.show()",
      "metadata": {
        "trusted": true
      },
      "outputs": [],
      "execution_count": null
    },
    {
      "cell_type": "markdown",
      "source": "## Model Assumptions\n\nBefore we jump into building model, we first have to meet some criterias. These criterias or assumptions are necessary to build an effective model. These assumptions are:\n* Independent Observations: All the observations should be independent of each other. We can assume this assumption to be true because no one company is related to other company.\n* Linearity: To check which variables are linearly related to our target variable. We also need to check how much the independent variables are correlated to our dependent variable. This enables us to choose the right variables and filter out the unnecessary variables.\n* No multi-colinearity: There should not be any linearity among any pair of independent variables that we choose.\n* Normality: This assumption can only be checked after the model is built. The assumption of normality is met when the residuals are normally distributed.\n* Homoscedasticity: The residuals should be scattered randomly around the fitted line. If the residuals are skewed to one or the other side then it means that there is some hidden correlation between the fitted values and predicted values.",
      "metadata": {}
    },
    {
      "cell_type": "markdown",
      "source": "### Linearity\n\nLet us use the Pearson's Correlation method to measure the linear relationship between the independent variables and dependent variable (market cap)",
      "metadata": {}
    },
    {
      "cell_type": "code",
      "source": "sugar.corr(method='pearson', numeric_only=True)[['mcap']].sort_values('mcap', ascending=False)",
      "metadata": {
        "trusted": true
      },
      "outputs": [],
      "execution_count": null
    },
    {
      "cell_type": "markdown",
      "source": "Seems like **Revenue** is most linearly related to the mcap. It is followed by **BV** (Book Value) and **R&S to SEC** (Reserves & Surplus to Share Equity Capital ratio). Ideally, a pearson correlation coefficient of 0.7 and above signifies a very high linear relationship. But to consider more factors, we will consider the variables with pearson correlation coefficient higher than 0.4. Due to this we will consider **ROA** (Return On Assets), **Revenue CQGR 5 qtrs** (compounded quarterly growth rate of revenue from the past 5 quarters), and **ROCE** (Return On Capital Equity).",
      "metadata": {}
    },
    {
      "cell_type": "markdown",
      "source": "### No multi-colinearity\n\nWe will check for linearity among the independent variables. If we detect a pair with high linearity among independent variables, we will drop the variable which has lower linearity with our dependent variable.",
      "metadata": {}
    },
    {
      "cell_type": "code",
      "source": "sugar[['Revenue', 'BV', 'R&S to SEC', 'ROA', 'Revenue CQGR 5 yrs', 'ROCE', 'mcap']].corr(method='pearson')",
      "metadata": {
        "trusted": true
      },
      "outputs": [],
      "execution_count": null
    },
    {
      "cell_type": "markdown",
      "source": "There is high linearity between **Revenue** and **BV**. So we will have to choose 1 among them. Because **Revenue** and **mcap** has high correlation between them as compared to **BV** and **mcap**, we will drop **BV**.<br>\nDue to same reasons we will have to drop **R&S to SEC** too.\nSimilar is the case between **ROA** and **ROCE**. So we will drop **ROCE**.\nAlthough, there is high correlation between **Revenue CQGR 5 qtrs** and **ROA**, we will not drop either of the two and try to build model with both of them.",
      "metadata": {}
    },
    {
      "cell_type": "markdown",
      "source": "Using pairplot to visualize relationship between the independent variables and dependent variable.",
      "metadata": {}
    },
    {
      "cell_type": "code",
      "source": "sns.pairplot(data=sugar[['Revenue', 'ROA', 'Revenue CQGR 5 yrs', 'mcap']])\nplt.show()",
      "metadata": {
        "trusted": true
      },
      "outputs": [],
      "execution_count": null
    },
    {
      "cell_type": "code",
      "source": "await piplite.install('statsmodels')\nfrom statsmodels.formula.api import ols",
      "metadata": {
        "trusted": true
      },
      "outputs": [],
      "execution_count": null
    },
    {
      "cell_type": "markdown",
      "source": "The OLS formula doesn't accept spaces between the independent variables, so we will have to rename the **Revenue CQGR 5 yrs** column to **Revenue_CQGR_5_qtrs**.",
      "metadata": {}
    },
    {
      "cell_type": "code",
      "source": "sugar.rename(columns = {'Revenue CQGR 5 yrs' : 'Revenue_CQGR_5_qtrs'}, inplace=True)",
      "metadata": {
        "trusted": true
      },
      "outputs": [],
      "execution_count": null
    },
    {
      "cell_type": "code",
      "source": "ols_formula = \"mcap ~ Revenue + ROA + Revenue_CQGR_5_qtrs\"\nOLS = ols(data=sugar[['Revenue', 'ROA', 'Revenue_CQGR_5_qtrs', 'mcap']], formula=ols_formula)\nmodel = OLS.fit()\nmodel.summary()",
      "metadata": {
        "trusted": true
      },
      "outputs": [],
      "execution_count": null
    },
    {
      "cell_type": "markdown",
      "source": "Earlier, we had considered **ROA** as well as **Revenue_CQGR_5_qtrs** for building our model despite the correlation between them.<br>\nLet us again build the model after dropping **ROA** and then check whether the adjusted R-squared has improved or not.",
      "metadata": {}
    },
    {
      "cell_type": "code",
      "source": "ols_formula = \"mcap ~ Revenue + Revenue_CQGR_5_qtrs\"\nOLS = ols(data=sugar[['Revenue', 'Revenue_CQGR_5_qtrs', 'mcap']], formula=ols_formula)\nmodel = OLS.fit()\nmodel.summary()",
      "metadata": {
        "trusted": true
      },
      "outputs": [],
      "execution_count": null
    },
    {
      "cell_type": "markdown",
      "source": "We can clearly see, although by a very less margin, the adjusted R-squared did improve after we dropped **ROA**.",
      "metadata": {}
    },
    {
      "cell_type": "code",
      "source": "model.resid",
      "metadata": {
        "trusted": true
      },
      "outputs": [],
      "execution_count": null
    },
    {
      "cell_type": "markdown",
      "source": "### Normality\n\nWe will check whether the residuals are normally distributed or not.<br>\nWe can do this in 2 ways:\n* Plotting histogram of residuals\n* Plotting qqplot of the residuals\n\nWe will use both.",
      "metadata": {}
    },
    {
      "cell_type": "code",
      "source": "sns.histplot(model.resid)\nplt.show()",
      "metadata": {
        "trusted": true
      },
      "outputs": [],
      "execution_count": null
    },
    {
      "cell_type": "code",
      "source": "await piplite.install('statsmodels')\nimport statsmodels.api as sm\nsm.qqplot(model.resid)",
      "metadata": {
        "trusted": true
      },
      "outputs": [],
      "execution_count": null
    },
    {
      "cell_type": "markdown",
      "source": "The normality assumption could be met only partially. But that could also be because we have very less sample size.",
      "metadata": {}
    },
    {
      "cell_type": "markdown",
      "source": "Let us now consider all the necessary columns and concatenate their respective residual values, and then arrange this list according to the residuals in ascending order.",
      "metadata": {}
    },
    {
      "cell_type": "code",
      "source": "final = pd.concat([sugar[['Stock', 'Revenue', 'Revenue_CQGR_5_qtrs', 'mcap']], model.resid], axis=1)",
      "metadata": {
        "trusted": true
      },
      "outputs": [],
      "execution_count": null
    },
    {
      "cell_type": "code",
      "source": "final.rename(columns = {0 : 'Residuals'}, inplace=True)",
      "metadata": {
        "trusted": true
      },
      "outputs": [],
      "execution_count": null
    },
    {
      "cell_type": "code",
      "source": "final.sort_values(by=['Residuals', 'Revenue'], ascending=[True, False])",
      "metadata": {
        "trusted": true
      },
      "outputs": [],
      "execution_count": null
    },
    {
      "cell_type": "markdown",
      "source": "Generally, **P/E** ratio was used to check whether a company is overbought or underbought. But with this model, we will actually come to know which of the companies are overbought and which are underbought. We will come to know how good of an indicator **P/E** is.",
      "metadata": {}
    },
    {
      "cell_type": "code",
      "source": "final = pd.concat([final, sugar['P/E']], axis=1)",
      "metadata": {
        "trusted": true
      },
      "outputs": [],
      "execution_count": null
    },
    {
      "cell_type": "code",
      "source": "final = final.reset_index(drop=True)",
      "metadata": {
        "trusted": true
      },
      "outputs": [],
      "execution_count": null
    },
    {
      "cell_type": "code",
      "source": "final.sort_values(by=['Residuals'])",
      "metadata": {
        "trusted": true
      },
      "outputs": [],
      "execution_count": null
    },
    {
      "cell_type": "markdown",
      "source": "We can observe that AVADHSUGAR, RANASUG and UTTAMSUGAR are most underbought stocks.<br>\nWe can understand why AVADHSUGAR and RANASUG are underbought. It might be because both of them have a negative quarter on quarter growth rate for last 5 quarters for revenue. The selling in these stocks might have caused to build a downward momentum which might have caused them to be in underbought zone. <br>\nBut UTTAMSUGAR checks all the points in our list. UTTAMSUGAR can be a safe bet.",
      "metadata": {}
    },
    {
      "cell_type": "code",
      "source": "import statsmodels.api as sm\n\nfig = plt.figure(figsize=(14, 8))\nfig = sm.graphics.plot_regress_exog(model, 'Revenue', fig=fig)",
      "metadata": {
        "trusted": true
      },
      "outputs": [],
      "execution_count": null
    },
    {
      "cell_type": "code",
      "source": "fig = plt.figure(figsize=(14, 8))\nfig = sm.graphics.plot_regress_exog(model, 'Revenue_CQGR_5_qtrs', fig=fig)",
      "metadata": {
        "trusted": true
      },
      "outputs": [],
      "execution_count": null
    },
    {
      "cell_type": "markdown",
      "source": "### Homoscedasticity\n\nWe want to check whether the residuals are randomly scattered when plotted against the fitted values.",
      "metadata": {}
    },
    {
      "cell_type": "code",
      "source": "X = sugar[['Revenue', 'Revenue_CQGR_5_qtrs']]\nfitted_values = model.predict(X)\n\nplt.figure(figsize=(12,8))\nsns.scatterplot(y=model.resid, x=fitted_values)\nplt.axhline(y=0)\n\nplt.show()",
      "metadata": {
        "trusted": true
      },
      "outputs": [],
      "execution_count": null
    },
    {
      "cell_type": "markdown",
      "source": "We can see that the homoscedasticity assumption is met.",
      "metadata": {}
    },
    {
      "cell_type": "markdown",
      "source": "Let us plot a Revenue vs Residuals scatterplot to get a visual idea of which stocks are underbought and overbought.",
      "metadata": {}
    },
    {
      "cell_type": "code",
      "source": "plt.figure(figsize=(12,8))\nsns.scatterplot(data=final, y='Residuals', x='Revenue')\nplt.axhline(y=0)\n\nfor i in range(len(final)):\n    plt.annotate(final['Stock'][i], (final['Revenue'][i]+50, final['Residuals'][i]-300000000))\n\nplt.show()",
      "metadata": {
        "trusted": true
      },
      "outputs": [],
      "execution_count": null
    },
    {
      "cell_type": "code",
      "source": "",
      "metadata": {
        "trusted": true
      },
      "outputs": [],
      "execution_count": null
    }
  ]
}